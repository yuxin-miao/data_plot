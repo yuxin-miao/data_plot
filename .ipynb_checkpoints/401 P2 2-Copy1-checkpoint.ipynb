{
 "cells": [
  {
   "cell_type": "code",
   "execution_count": 3,
   "metadata": {},
   "outputs": [],
   "source": [
    "%matplotlib notebook\n",
    "\n",
    "import pandas as pd\n",
    "import numpy as np\n",
    "import matplotlib as mpl\n",
    "import matplotlib.pyplot as plt\n",
    "from matplotlib import cm\n",
    "import scipy.stats as st\n",
    "from scipy.optimize import curve_fit"
   ]
  },
  {
   "cell_type": "code",
   "execution_count": 22,
   "metadata": {},
   "outputs": [],
   "source": [
    "df = pd.read_csv('term_project_overlay_data.csv').drop('overlay_error_x', axis = 1, inplace = False)\n",
    "OyOriginal = df[' overlay_error_y']\n",
    "df.drop(' overlay_error_y', axis = 1, inplace = True)\n",
    "dataOriginal = df.values\n",
    "df.rename(columns={' x': 'x'}, inplace = True)"
   ]
  },
  {
   "cell_type": "code",
   "execution_count": 25,
   "metadata": {},
   "outputs": [],
   "source": [
    "dfout = df\n",
    "dfout['x2'] = df['x']*df['x']\n",
    "dfout['y2'] = df['y'] * df['y']\n",
    "dfout['xy'] = df['x'] * df['y']\n",
    "dfout['X2'] = df['X'] * df['X']\n",
    "dfout['Y2'] = df['Y'] * df['Y']\n",
    "dfout['XY'] = df['X'] * df['Y']\n",
    "dfout['0'] = 1\n",
    "dfout = dfout[['0', 'X', 'Y', 'XY', 'X2', 'Y2', 'x', 'y', 'xy', 'x2', 'y2']]\n",
    "dfout.to_csv(\"dataProcessed.csv\", index = None)"
   ]
  },
  {
   "cell_type": "code",
   "execution_count": 27,
   "metadata": {},
   "outputs": [
    {
     "data": {
      "text/plain": [
       "250"
      ]
     },
     "execution_count": 27,
     "metadata": {},
     "output_type": "execute_result"
    }
   ],
   "source": [
    "len(dfout)"
   ]
  },
  {
   "cell_type": "code",
   "execution_count": 24,
   "metadata": {},
   "outputs": [
    {
     "name": "stderr",
     "output_type": "stream",
     "text": [
      "/opt/anaconda3/lib/python3.7/site-packages/ipykernel_launcher.py:1: FutureWarning: The signature of `Series.to_csv` was aligned to that of `DataFrame.to_csv`, and argument 'header' will change its default value from False to True: please pass an explicit value to suppress this warning.\n",
      "  \"\"\"Entry point for launching an IPython kernel.\n"
     ]
    }
   ],
   "source": [
    "OyOriginal.to_csv(\"overlay_y.csv\", index = None)"
   ]
  },
  {
   "cell_type": "code",
   "execution_count": 124,
   "metadata": {},
   "outputs": [],
   "source": [
    "def funcOy (data, b0, b1, b2, b3, b4, b5, b6, b7, b8, b9, b10):\n",
    "    x, X, y, Y = data\n",
    "    return b0 + b1*X + b2*Y + b3*X*Y + b4*X*X + b5*Y*Y + b6*x + b7*y + b8*x*y + b9*x*x + b10*y*y;"
   ]
  },
  {
   "cell_type": "code",
   "execution_count": 148,
   "metadata": {},
   "outputs": [],
   "source": [
    "def funCal (popt, datai, yi):\n",
    "    x, X, y, Y = datai\n",
    "    ycal = popt[0] + popt[1]*X + popt[2]*Y + popt[3]*X*Y + popt[4]*X*X + popt[5]*Y*Y + popt[6]*x + popt[7]*y + popt[8]*x*y + popt[9]*x*x + popt[10]*y*y\n",
    "    return (yi - ycal)**2"
   ]
  },
  {
   "cell_type": "code",
   "execution_count": 149,
   "metadata": {},
   "outputs": [],
   "source": [
    "def calPress (dataOriginal):\n",
    "    PRESS = 0;\n",
    "    for i in range(0, len(dataOriginal)):\n",
    "        data = np.delete(dataOriginal, i, 0)\n",
    "        data = data.T\n",
    "        Oy = np.delete(OyOriginal, i)\n",
    "        popt, pcov = curve_fit(funcOy, data, Oy)\n",
    "        PRESS = PRESS + funCal (popt, dataOriginal[i], OyOriginal[i])\n",
    "    \n",
    "    print(PRESS)\n",
    "    "
   ]
  },
  {
   "cell_type": "code",
   "execution_count": 150,
   "metadata": {
    "scrolled": false
   },
   "outputs": [
    {
     "name": "stdout",
     "output_type": "stream",
     "text": [
      "101.61870540275662\n"
     ]
    }
   ],
   "source": [
    "calPress(dataOriginal)"
   ]
  },
  {
   "cell_type": "code",
   "execution_count": 1,
   "metadata": {},
   "outputs": [],
   "source": [
    "import matplotlib.pyplot as plt\n",
    "import numpy as np\n",
    "\n",
    "def print_regression_expr(coeffs, labels, Rs):\n",
    "    print(Rs)\n",
    "    if len(coeffs) == 1:\n",
    "        print(coeffs[0])\n",
    "        return\n",
    "    for i in range(len(coeffs)):\n",
    "        if labels[i] == '':\n",
    "            print(coeffs[i], end='')\n",
    "            continue\n",
    "        \n",
    "        if coeffs[i] > 0:\n",
    "            print('+', end='')\n",
    "        print(coeffs[i], end='')\n",
    "        print(labels[i], end='')\n",
    "            \n",
    "        if i == len(coeffs) - 1:\n",
    "            print()\n",
    "\n",
    "def output_regression(final_list, filename):\n",
    "    with open(filename, 'w+') as f:\n",
    "        for ind in range(len(final_list)):\n",
    "            f.write(str(final_list[ind][2]))\n",
    "            f.write('\\n')\n",
    "            coeffs = final_list[ind][0]\n",
    "            labels = final_list[ind][1]\n",
    "            if len(coeffs) == 1:\n",
    "                f.write(str(coeffs[0]))\n",
    "                f.write('\\n')\n",
    "                return\n",
    "            for i in range(len(coeffs)):\n",
    "                if labels[i] == '':\n",
    "                    f.write(str(coeffs[i]))\n",
    "                    continue\n",
    "                \n",
    "                if coeffs[i] > 0:\n",
    "                    f.write('+')\n",
    "                f.write(str(coeffs[i]))\n",
    "                f.write(str(labels[i]))\n",
    "                    \n",
    "                if i == len(coeffs) - 1:\n",
    "                    f.write('\\n')\n",
    "\n",
    "\n",
    "def cal_fit_result(all_preds, pred_labels, fit, n):\n",
    "    res = np.ones(n) * fit[0][0]\n",
    "    ind = 1\n",
    "    for ind in range(1, len(fit[1])):\n",
    "        res = res + all_preds[pred_labels.index(fit[1][ind])] * fit[0][ind]\n",
    "    return res\n",
    "\n",
    "\n",
    "def plot_curve(all_preds, pred_labels, Ox_fit, Oy_fit, Ox, Oy):\n",
    "    plt.scatter(all_preds[0] + all_preds[5] + Ox, all_preds[1] + all_preds[6] + Oy, marker='.', linewidth=1)\n",
    "    Ox_fitted = cal_fit_result(all_preds, pred_labels, Ox_fit, len(Ox))\n",
    "    Oy_fitted = cal_fit_result(all_preds, pred_labels, Oy_fit, len(Oy))\n",
    "    plt.scatter(all_preds[0] + all_preds[5] + Ox_fitted, all_preds[1] + all_preds[6] + Oy_fitted, marker='.', linewidth=1)\n",
    "    plt.show()"
   ]
  },
  {
   "cell_type": "code",
   "execution_count": 3,
   "metadata": {},
   "outputs": [
    {
     "data": {
      "image/png": "[encoded data removed]",
      "text/plain": [
       "<Figure size 432x288 with 1 Axes>"
      ]
     },
     "metadata": {
      "needs_background": "light"
     },
     "output_type": "display_data"
    }
   ],
   "source": [
    "import csv\n",
    "\n",
    "row_num = 0\n",
    "Ox = np.array([])\n",
    "Oy = np.array([])\n",
    "x = np.array([])\n",
    "y = np.array([])\n",
    "X = np.array([])\n",
    "Y = np.array([])\n",
    "\n",
    "\n",
    "# Read raw data from .csv file\n",
    "with open('term_project_overlay_data.csv','r') as f:\n",
    "    reader = csv.reader(f)\n",
    "    for row in reader:\n",
    "        row_num += 1\n",
    "        if row_num == 1:\n",
    "            continue\n",
    "        Ox = np.append(Ox, float(row[0]))\n",
    "        Oy = np.append(Oy, float(row[1]))\n",
    "        x = np.append(x, float(row[2]))\n",
    "        X = np.append(X, float(row[3]))\n",
    "        y = np.append(y, float(row[4]))\n",
    "        Y = np.append(Y, float(row[5]))\n",
    "\n",
    "n = len(Ox)\n",
    "\n",
    "all_predictors = [X, Y, X*Y, X*X, Y*Y, x, y, x*y, x*x, y*y]\n",
    "pred_labels = ['X', 'Y', 'XY', 'X^2', 'Y^2', 'x', 'y', 'xy', 'x^2', 'y^2']\n",
    "pred_num = len(all_predictors)\n",
    "\n",
    "result_preds = []\n",
    "result_labels = []\n",
    "Rsquares = []\n",
    "\n",
    "def test_all_regressions(x_data, y_data, labels, depth):\n",
    "    if depth == 10:\n",
    "        x_mat = np.mat(x_data).T\n",
    "        y_mat = np.mat(y_data)\n",
    "        b = (x_mat.T * x_mat).I * x_mat.T * y_mat.T\n",
    "        result_preds.append(b)\n",
    "        result_labels.append(labels)\n",
    "        # Calculate R^2\n",
    "        SST = np.sum(np.power(y_mat - np.mean(y_mat), 2))\n",
    "        SSE = (y_mat.T - x_mat * b).T * (y_mat.T - x_mat * b)\n",
    "        Rsq = (SST - SSE) / SST\n",
    "        Rsquares.append(Rsq[0,0])\n",
    "    else:\n",
    "        tmp = list(labels)\n",
    "        tmp_x_data = list(x_data)\n",
    "        tmp.append(pred_labels[depth])\n",
    "        tmp_x_data.append(all_predictors[depth])\n",
    "        test_all_regressions(tmp_x_data, y_data, tmp, depth + 1)\n",
    "        test_all_regressions(list(x_data), y_data, list(labels), depth + 1)\n",
    "        \n",
    "\n",
    "# Fit Ox\n",
    "test_all_regressions([np.ones(n)], Ox, [''], 0)\n",
    "\n",
    "final_list = [[np.array(result_preds[i]).flatten(), np.array(result_labels[i]).flatten(), Rsquares[i]] for i in range(len(Rsquares))]\n",
    "final = list(sorted(final_list, key=lambda x: x[2], reverse=True))\n",
    "\n",
    "output_regression(final, 'Ox.txt')\n",
    "Ox_fit = final[0]\n",
    "\n",
    "# Fit Oy\n",
    "result_preds = []\n",
    "result_labels = []\n",
    "Rsquares = []\n",
    "\n",
    "test_all_regressions([np.ones(n)], Oy, [''], 0)\n",
    "\n",
    "final_list = [[np.array(result_preds[i]).flatten(), np.array(result_labels[i]).flatten(), Rsquares[i]] for i in range(len(Rsquares))]\n",
    "final = list(sorted(final_list, key=lambda x: x[2], reverse=True))\n",
    "\n",
    "output_regression(final, 'Oy.txt')\n",
    "Oy_fit = final[0]\n",
    "\n",
    "plot_curve(all_predictors, pred_labels, Ox_fit, Oy_fit, Ox, Oy)"
   ]
  },
  {
   "cell_type": "code",
   "execution_count": 65,
   "metadata": {},
   "outputs": [],
   "source": [
    "%matplotlib notebook\n",
    "import numpy as np\n",
    "import pandas as pd\n",
    "import matplotlib.pyplot as plt\n",
    "\n",
    "from sklearn.model_selection import train_test_split\n"
   ]
  },
  {
   "cell_type": "markdown",
   "metadata": {},
   "source": [
    "## Ordinary Least Square Method with Training and Test Set Split"
   ]
  },
  {
   "cell_type": "code",
   "execution_count": 66,
   "metadata": {},
   "outputs": [
    {
     "name": "stdout",
     "output_type": "stream",
     "text": [
      "linear model intercept: 0.7485286953336125\n",
      "linear model coeff:\n",
      "[ 0.00000000e+00  3.04014130e-03  3.97338613e-03  1.03852304e-05\n",
      "  5.72920217e-06 -1.69748997e-05  1.60371908e-02  1.45566852e-02\n",
      "  2.75898064e-04 -3.65549058e-03  2.72713620e-03]\n",
      "R-squared score (training): 0.457\n",
      "R-squared score (test): 0.141\n"
     ]
    }
   ],
   "source": [
    "from sklearn.linear_model import LinearRegression\n",
    "\n",
    "X_train, X_test, y_train, y_test = train_test_split(dfout, OyOriginal,\n",
    "                                                   random_state = 0)\n",
    "linreg = LinearRegression().fit(X_train, y_train)\n",
    "\n",
    "print('linear model intercept: {}'\n",
    "     .format(linreg.intercept_))\n",
    "print('linear model coeff:\\n{}'\n",
    "     .format(linreg.coef_))\n",
    "print('R-squared score (training): {:.3f}'\n",
    "     .format(linreg.score(X_train, y_train)))\n",
    "print('R-squared score (test): {:.3f}'\n",
    "     .format(linreg.score(X_test, y_test)))"
   ]
  },
  {
   "cell_type": "markdown",
   "metadata": {},
   "source": [
    "## Ridge Regression"
   ]
  },
  {
   "cell_type": "code",
   "execution_count": 38,
   "metadata": {},
   "outputs": [
    {
     "name": "stdout",
     "output_type": "stream",
     "text": [
      "ridge regression linear model intercept: 0.7484596024496036\n",
      "ridge regression linear model coeff:\n",
      "[ 0.00000000e+00  3.03919844e-03  3.97283637e-03  1.03837731e-05\n",
      "  5.73346762e-06 -1.69738261e-05  1.59955609e-02  1.45452115e-02\n",
      "  2.76051384e-04 -3.65446276e-03  2.72715717e-03]\n",
      "R-squared score (training): 0.457\n",
      "R-squared score (test): 0.141\n",
      "Number of non-zero features: 10\n"
     ]
    }
   ],
   "source": [
    "from sklearn.linear_model import Ridge\n",
    "X_train, X_test, y_train, y_test = train_test_split(dfout, OyOriginal,\n",
    "                                                   random_state = 0)\n",
    "\n",
    "linridge = Ridge(alpha=20.0).fit(X_train, y_train)\n",
    "\n",
    "print('ridge regression linear model intercept: {}'\n",
    "     .format(linridge.intercept_))\n",
    "print('ridge regression linear model coeff:\\n{}'\n",
    "     .format(linridge.coef_))\n",
    "print('R-squared score (training): {:.3f}'\n",
    "     .format(linridge.score(X_train, y_train)))\n",
    "print('R-squared score (test): {:.3f}'\n",
    "     .format(linridge.score(X_test, y_test)))\n",
    "print('Number of non-zero features: {}'\n",
    "     .format(np.sum(linridge.coef_ != 0)))"
   ]
  },
  {
   "cell_type": "code",
   "execution_count": 40,
   "metadata": {},
   "outputs": [
    {
     "name": "stdout",
     "output_type": "stream",
     "text": [
      "Scaled data:\n",
      "ridge regression linear model intercept: 0.24083232615128025\n",
      "ridge regression linear model coeff:\n",
      "[ 0.          0.33502682  0.4021618   0.06921812  0.07011548 -0.1146341\n",
      "  0.11788948  0.17023391  0.02507628 -0.1905958   0.48167654]\n",
      "R-squared score (training): 0.333\n",
      "R-squared score (test): 0.196\n",
      "Number of non-zero features: 10\n"
     ]
    }
   ],
   "source": [
    "from sklearn.preprocessing import MinMaxScaler\n",
    "scaler = MinMaxScaler()\n",
    "\n",
    "from sklearn.linear_model import Ridge\n",
    "X_train, X_test, y_train, y_test = train_test_split(dfout, OyOriginal,\n",
    "                                                   random_state = 0)\n",
    "\n",
    "X_train_scaled = scaler.fit_transform(X_train)\n",
    "X_test_scaled = scaler.transform(X_test)\n",
    "\n",
    "linridge = Ridge(alpha=20.0).fit(X_train_scaled, y_train)\n",
    "\n",
    "print('Scaled data:')\n",
    "print('ridge regression linear model intercept: {}'\n",
    "     .format(linridge.intercept_))\n",
    "print('ridge regression linear model coeff:\\n{}'\n",
    "     .format(linridge.coef_))\n",
    "print('R-squared score (training): {:.3f}'\n",
    "     .format(linridge.score(X_train_scaled, y_train)))\n",
    "print('R-squared score (test): {:.3f}'\n",
    "     .format(linridge.score(X_test_scaled, y_test)))\n",
    "print('Number of non-zero features: {}'\n",
    "     .format(np.sum(linridge.coef_ != 0)))"
   ]
  },
  {
   "cell_type": "code",
   "execution_count": 49,
   "metadata": {},
   "outputs": [
    {
     "name": "stdout",
     "output_type": "stream",
     "text": [
      "Ridge regression: effect of alpha regularization parameter\n",
      "\n",
      "Alpha = 0.00\n",
      "num abs(coeff) > 0: 10, r-squared training: 0.46, r-squared test: 0.14\n",
      "[ 0.          0.86835556  1.03335853  0.22584521  0.11694353 -0.30575843\n",
      "  0.29253279  0.47846368  0.08233606 -0.32309871  0.75871912]\n",
      "-0.7158547772289222\n",
      "Alpha = 5.00\n",
      "num abs(coeff) > 0: 10, r-squared training: 0.43, r-squared test: 0.20\n",
      "[ 0.          0.62118221  0.73916096  0.14478558  0.10427008 -0.21398847\n",
      "  0.21267193  0.33293316  0.05417351 -0.27361404  0.66535951]\n",
      "-0.2804503221559539\n",
      "Alpha = 10.00\n",
      "num abs(coeff) > 0: 10, r-squared training: 0.40, r-squared test: 0.21\n",
      "[ 0.          0.48349633  0.57685202  0.10631876  0.09045139 -0.16563837\n",
      "  0.16753478  0.25367058  0.03949827 -0.23848147  0.59089461]\n",
      "-0.03318948331146865\n",
      "Alpha = 15.00\n",
      "num abs(coeff) > 0: 10, r-squared training: 0.36, r-squared test: 0.20\n",
      "[ 0.          0.39578498  0.47367494  0.08388826  0.07913985 -0.13541947\n",
      "  0.13835466  0.20406774  0.03077674 -0.21175754  0.53086921]\n",
      "0.12748507610734316\n",
      "Alpha = 20.00\n",
      "num abs(coeff) > 0: 10, r-squared training: 0.33, r-squared test: 0.20\n",
      "[ 0.          0.33502682  0.4021618   0.06921812  0.07011548 -0.1146341\n",
      "  0.11788948  0.17023391  0.02507628 -0.1905958   0.48167654]\n",
      "0.24083232615128025\n",
      "Alpha = 25.00\n",
      "num abs(coeff) > 0: 10, r-squared training: 0.31, r-squared test: 0.19\n",
      "[ 0.          0.29045325  0.34960977  0.05888637  0.0628487  -0.09942253\n",
      "  0.10272296  0.14575326  0.02108963 -0.17336625  0.44071008]\n",
      "0.3253438203976099\n",
      "Alpha = 30.00\n",
      "num abs(coeff) > 0: 10, r-squared training: 0.29, r-squared test: 0.18\n",
      "[ 0.          0.25635677  0.30932494  0.05122231  0.05690545 -0.08779234\n",
      "  0.091025    0.12725987  0.01815898 -0.1590408   0.40610205]\n",
      "0.3909188831789703\n",
      "Alpha = 35.00\n",
      "num abs(coeff) > 0: 10, r-squared training: 0.27, r-squared test: 0.17\n",
      "[ 0.          0.22943102  0.27744052  0.04531403  0.05196803 -0.07860525\n",
      "  0.0817241   0.11282157  0.015921   -0.14692984  0.37649653]\n",
      "0.44335666171603644\n",
      "Alpha = 40.00\n",
      "num abs(coeff) > 0: 10, r-squared training: 0.25, r-squared test: 0.16\n",
      "[ 0.          0.20762846  0.25156475  0.04062196  0.04780729 -0.07116154\n",
      "  0.07415015  0.101252    0.01416003 -0.13655004  0.35089143]\n",
      "0.4862896748644425\n",
      "Alpha = 45.00\n",
      "num abs(coeff) > 0: 10, r-squared training: 0.24, r-squared test: 0.15\n",
      "[ 0.          0.1896134   0.23013764  0.03680666  0.04425648 -0.06500649\n",
      "  0.06786212  0.09178353  0.01274059 -0.12755118  0.32853257]\n",
      "0.5221142341532394\n"
     ]
    }
   ],
   "source": [
    "print('Ridge regression: effect of alpha regularization parameter\\n')\n",
    "for this_alpha in range(0, 50, 5):\n",
    "    linridge = Ridge(alpha = this_alpha).fit(X_train_scaled, y_train)\n",
    "    r2_train = linridge.score(X_train_scaled, y_train)\n",
    "    r2_test = linridge.score(X_test_scaled, y_test)\n",
    "    num_coeff_bigger = np.sum(abs(linridge.coef_) > 0)\n",
    "    print('Alpha = {:.2f}\\nnum abs(coeff) > 0: {}, \\\n",
    "r-squared training: {:.2f}, r-squared test: {:.2f}'\n",
    "         .format(this_alpha, num_coeff_bigger, r2_train, r2_test))\n",
    "    print(linridge.coef_)\n",
    "    print(linridge.intercept_)"
   ]
  },
  {
   "cell_type": "markdown",
   "metadata": {},
   "source": [
    "## Lasso Regression"
   ]
  },
  {
   "cell_type": "code",
   "execution_count": 62,
   "metadata": {},
   "outputs": [
    {
     "name": "stdout",
     "output_type": "stream",
     "text": [
      "lasso regression linear model intercept: 0.9265930000000001\n",
      "lasso regression linear model coeff:\n",
      "[ 0.  0.  0.  0.  0. -0.  0.  0.  0. -0.  0.]\n",
      "Non-zero features: 0\n",
      "R-squared score (training): 0.000\n",
      "R-squared score (test): -0.013\n",
      "\n",
      "Features with non-zero weight (sorted by absolute magnitude):\n"
     ]
    }
   ],
   "source": [
    "from sklearn.linear_model import Lasso\n",
    "from sklearn.preprocessing import MinMaxScaler\n",
    "scaler = MinMaxScaler()\n",
    "\n",
    "X_train, X_test, y_train, y_test = train_test_split(dfout, OyOriginal,\n",
    "                                                   random_state = 0)\n",
    "\n",
    "X_train_scaled = scaler.fit_transform(X_train)\n",
    "X_test_scaled = scaler.transform(X_test)\n",
    "\n",
    "linlasso = Lasso(alpha=2.0).fit(X_train_scaled, y_train)\n",
    "\n",
    "print('lasso regression linear model intercept: {}'\n",
    "     .format(linlasso.intercept_))\n",
    "print('lasso regression linear model coeff:\\n{}'\n",
    "     .format(linlasso.coef_))\n",
    "print('Non-zero features: {}'\n",
    "     .format(np.sum(linlasso.coef_ != 0)))\n",
    "print('R-squared score (training): {:.3f}'\n",
    "     .format(linlasso.score(X_train_scaled, y_train)))\n",
    "print('R-squared score (test): {:.3f}\\n'\n",
    "     .format(linlasso.score(X_test_scaled, y_test)))\n",
    "print('Features with non-zero weight (sorted by absolute magnitude):')\n",
    "\n",
    "for e in sorted (list(zip(list(dfout), linlasso.coef_)),\n",
    "                key = lambda e: -abs(e[1])):\n",
    "    if e[1] != 0:\n",
    "        print('\\t{}, {:.3f}'.format(e[0], e[1]))"
   ]
  },
  {
   "cell_type": "code",
   "execution_count": 64,
   "metadata": {},
   "outputs": [
    {
     "name": "stdout",
     "output_type": "stream",
     "text": [
      "Lasso regression: effect of alpha regularization\n",
      "parameter on number of features kept in final model\n",
      "\n",
      "Alpha = 0.50\n",
      "Features kept: 0, r-squared training: 0.00, r-squared test: -0.01\n",
      "Alpha = 1.00\n",
      "Features kept: 0, r-squared training: 0.00, r-squared test: -0.01\n",
      "Alpha = 2.00\n",
      "Features kept: 0, r-squared training: 0.00, r-squared test: -0.01\n",
      "Alpha = 3.00\n",
      "Features kept: 0, r-squared training: 0.00, r-squared test: -0.01\n",
      "Alpha = 5.00\n",
      "Features kept: 0, r-squared training: 0.00, r-squared test: -0.01\n",
      "Alpha = 10.00\n",
      "Features kept: 0, r-squared training: 0.00, r-squared test: -0.01\n",
      "Alpha = 20.00\n",
      "Features kept: 0, r-squared training: 0.00, r-squared test: -0.01\n",
      "Alpha = 50.00\n",
      "Features kept: 0, r-squared training: 0.00, r-squared test: -0.01\n"
     ]
    }
   ],
   "source": [
    "print('Lasso regression: effect of alpha regularization\\n\\\n",
    "parameter on number of features kept in final model\\n')\n",
    "\n",
    "for alpha in [0.5, 1, 2, 3, 5, 10, 20, 50]:\n",
    "    linlasso = Lasso(alpha).fit(X_train_scaled, y_train)\n",
    "    r2_train = linlasso.score(X_train_scaled, y_train)\n",
    "    r2_test = linlasso.score(X_test_scaled, y_test)\n",
    "    \n",
    "    print('Alpha = {:.2f}\\nFeatures kept: {}, r-squared training: {:.2f}, \\\n",
    "r-squared test: {:.2f}'\n",
    "         .format(alpha, np.sum(linlasso.coef_ != 0), r2_train, r2_test))"
   ]
  },
  {
   "cell_type": "code",
   "execution_count": null,
   "metadata": {},
   "outputs": [],
   "source": []
  }
 ],
 "metadata": {
  "kernelspec": {
   "display_name": "Python 3",
   "language": "python",
   "name": "python3"
  },
  "language_info": {
   "codemirror_mode": {
    "name": "ipython",
    "version": 3
   },
   "file_extension": ".py",
   "mimetype": "text/x-python",
   "name": "python",
   "nbconvert_exporter": "python",
   "pygments_lexer": "ipython3",
   "version": "3.7.4"
  }
 },
 "nbformat": 4,
 "nbformat_minor": 2
}
