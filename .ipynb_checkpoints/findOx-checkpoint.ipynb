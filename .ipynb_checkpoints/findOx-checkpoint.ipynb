{
 "cells": [
  {
   "cell_type": "code",
   "execution_count": 1,
   "metadata": {},
   "outputs": [
    {
     "name": "stdout",
     "output_type": "stream",
     "text": [
      "lasso regression linear model intercept: -0.3355575209090909\n",
      "lasso regression linear model coeff:\n",
      "[ 0. -0.  0. -0. -0.  0.  0. -0. -0.  0.  0.  0. -0.  0. -0.  0.  0. -0.\n",
      " -0.  0.  0. -0. -0.  0.  0. -0. -0. -0. -0.  0. -0. -0. -0.  0. -0. -0.\n",
      " -0. -0.  0. -0. -0.  0.  0. -0.  0.  0. -0. -0. -0.  0.]\n",
      "Non-zero features: 0\n",
      "R-squared score (training): 0.000\n",
      "R_squared score (test): -0.020\n",
      "\n",
      "Features with non-zero weight (sorted by absolute magnitude):\n"
     ]
    },
    {
     "name": "stderr",
     "output_type": "stream",
     "text": [
      "C:\\Users\\ASUS\\Anaconda3\\lib\\site-packages\\sklearn\\preprocessing\\data.py:323: DataConversionWarning: Data with input dtype int64, float64 were all converted to float64 by MinMaxScaler.\n",
      "  return self.partial_fit(X, y)\n",
      "C:\\Users\\ASUS\\Anaconda3\\lib\\site-packages\\sklearn\\preprocessing\\data.py:323: DataConversionWarning: Data with input dtype int64, float64 were all converted to float64 by MinMaxScaler.\n",
      "  return self.partial_fit(X, y)\n"
     ]
    }
   ],
   "source": [
    "import numpy as np\n",
    "import pandas as pd\n",
    "import os\n",
    "\n",
    "from sklearn.linear_model import Lasso,LassoCV,LassoLarsCV\n",
    "\n",
    "from sklearn.preprocessing import MinMaxScaler\n",
    "scaler = MinMaxScaler()\n",
    "\n",
    "os.getcwd()\n",
    "data = pd.read_csv('ox.csv')\n",
    "\n",
    "X = data.iloc[:,2:]\n",
    "Y = data.iloc[:,1]\n",
    "\n",
    "from sklearn.model_selection import train_test_split\n",
    "X_train,X_test,y_train,y_test = train_test_split(X,Y,random_state=0)\n",
    "\n",
    "X_train_scaled = scaler.fit_transform(X_train)\n",
    "X_test_scaled = scaler.fit_transform(X_test)\n",
    "\n",
    "linlasso = Lasso(alpha=2.0).fit(X_train_scaled, y_train)\n",
    "\n",
    "print('lasso regression linear model intercept: {}'.format(linlasso.intercept_))\n",
    "\n",
    "print('lasso regression linear model coeff:\\n{}'.format(linlasso.coef_))\n",
    "\n",
    "print('Non-zero features: {}'.format(np.sum(linlasso.coef_ != 0)))\n",
    "\n",
    "print('R-squared score (training): {:.3f}'.format(linlasso.score(X_train, y_train)))\n",
    "\n",
    "print('R_squared score (test): {:.3f}\\n'.format(linlasso.score(X_test, y_test)))\n",
    "\n",
    "print('Features with non-zero weight (sorted by absolute magnitude):')\n",
    "\n",
    "for e in sorted (list(zip(list(X),linlasso.coef_)), key = lambda e: -abs(e[1])):\n",
    "    if e[1] != 0:\n",
    "        print('\\t{}, {:.3f}'.format(e[0], e[1]))"
   ]
  },
  {
   "cell_type": "code",
   "execution_count": 2,
   "metadata": {},
   "outputs": [
    {
     "name": "stdout",
     "output_type": "stream",
     "text": [
      "Lasso regression: effect of alpha regularization\n",
      "      parameter on number of features kept in final model\n",
      "\n",
      "Alpha = 0.0001\n",
      "Features kept: 49, r-squared training: 0.71,           r_squared test: 0.66\n",
      "Alpha = 0.0005\n",
      "Features kept: 47, r-squared training: 0.71,           r_squared test: 0.65\n",
      "Alpha = 0.0010\n",
      "Features kept: 43, r-squared training: 0.71,           r_squared test: 0.66\n",
      "Alpha = 0.0100\n",
      "Features kept: 18, r-squared training: 0.61,           r_squared test: 0.69\n",
      "Alpha = 0.1000\n",
      "Features kept: 2, r-squared training: 0.16,           r_squared test: 0.20\n",
      "Alpha = 1.0000\n",
      "Features kept: 0, r-squared training: 0.00,           r_squared test: -0.02\n",
      "Alpha = 5.0000\n",
      "Features kept: 0, r-squared training: 0.00,           r_squared test: -0.02\n",
      "Alpha = 10.0000\n",
      "Features kept: 0, r-squared training: 0.00,           r_squared test: -0.02\n"
     ]
    }
   ],
   "source": [
    "print('Lasso regression: effect of alpha regularization\\n\\\n",
    "      parameter on number of features kept in final model\\n')\n",
    "\n",
    "for alpha in [0.0001, 0.0005, 0.001, 0.01, 0.1, 1, 5, 10]:\n",
    "    linlasso = Lasso(alpha).fit(X_train_scaled, y_train)\n",
    "    r2_train = linlasso.score(X_train_scaled, y_train)\n",
    "    r2_test = linlasso.score(X_test_scaled, y_test)\n",
    "    \n",
    "    print('Alpha = {:.4f}\\nFeatures kept: {}, r-squared training: {:.2f}, \\\n",
    "          r_squared test: {:.2f}'\n",
    "          .format(alpha, np.sum(linlasso.coef_ != 0), r2_train, r2_test))"
   ]
  },
  {
   "cell_type": "code",
   "execution_count": 3,
   "metadata": {},
   "outputs": [
    {
     "name": "stdout",
     "output_type": "stream",
     "text": [
      "Alpha = 10.0000\n",
      "Features kept: 43, r-squared training: 0.71,      r_squared test: 0.66\n",
      "Features with non-zero weight (sorted by absolute magnitude):\n",
      "\tXY * X2, -1.3200\n",
      "\ty, -1.2179\n",
      "\tXY * Y2, 1.1202\n",
      "\txy * x2, -1.1078\n",
      "\tx * x2, 1.0202\n",
      "\tXY * x2, -0.8803\n",
      "\txy, 0.8333\n",
      "\tX2, -0.8196\n",
      "\tX * XY, 0.7324\n",
      "\tX * y, -0.7219\n",
      "\tX * Y2, 0.6525\n",
      "\tY * Y2, -0.6508\n",
      "\tY * x2, 0.5947\n",
      "\tx2 * y2, 0.5812\n",
      "\tXY * x, -0.5754\n",
      "\tX2 * y, 0.5682\n",
      "\tXY, -0.5452\n",
      "\tX * xy, 0.5362\n",
      "\tx, 0.4404\n",
      "\tX2 * y2, -0.4117\n",
      "\tx * xy, 0.3215\n",
      "\tY2, -0.3091\n",
      "\tY2 * x, 0.2661\n",
      "\tX2 * x, -0.2473\n",
      "\tY * y2, 0.2412\n",
      "\tY * xy, -0.2341\n",
      "\tx * y2, -0.2282\n",
      "\tX * x, -0.2198\n",
      "\tY2 * x2, 0.2122\n",
      "\txy * y2, -0.2112\n",
      "\tX * y2, -0.2082\n",
      "\ty2, 0.2005\n",
      "\ty * y2, -0.1303\n",
      "\tx2, -0.1291\n",
      "\tXY * y2, -0.1278\n",
      "\tX * x2, 0.1266\n",
      "\tXY * y, -0.1256\n",
      "\tY2 * y2, -0.1218\n",
      "\tY * x, 0.0506\n",
      "\tX2 * Y2, 0.0506\n",
      "\tY, 0.0475\n",
      "\tXY * xy, 0.0170\n",
      "\tX, -0.0049\n"
     ]
    }
   ],
   "source": [
    "linlasso = Lasso(0.001).fit(X_train_scaled, y_train)\n",
    "r2_train = linlasso.score(X_train_scaled, y_train)\n",
    "r2_test = linlasso.score(X_test_scaled, y_test)\n",
    "print('Alpha = {:.4f}\\nFeatures kept: {}, r-squared training: {:.2f}, \\\n",
    "     r_squared test: {:.2f}'\n",
    "     .format(alpha, np.sum(linlasso.coef_ != 0), r2_train, r2_test))\n",
    "print('Features with non-zero weight (sorted by absolute magnitude):')\n",
    "for e in sorted (list(zip(list(X),linlasso.coef_)), key = lambda e: -abs(e[1])):\n",
    "    if e[1] != 0:\n",
    "        print('\\t{}, {:.4f}'.format(e[0], e[1]))"
   ]
  }
 ],
 "metadata": {
  "kernelspec": {
   "display_name": "Python 3",
   "language": "python",
   "name": "python3"
  },
  "language_info": {
   "codemirror_mode": {
    "name": "ipython",
    "version": 3
   },
   "file_extension": ".py",
   "mimetype": "text/x-python",
   "name": "python",
   "nbconvert_exporter": "python",
   "pygments_lexer": "ipython3",
   "version": "3.7.4"
  }
 },
 "nbformat": 4,
 "nbformat_minor": 2
}
