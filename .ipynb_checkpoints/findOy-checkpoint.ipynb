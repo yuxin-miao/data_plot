{
 "cells": [
  {
   "cell_type": "markdown",
   "metadata": {},
   "source": [
    "# Add features"
   ]
  },
  {
   "cell_type": "code",
   "execution_count": 1,
   "metadata": {},
   "outputs": [],
   "source": [
    "import pandas as pd\n",
    "import os  \n",
    "\n",
    "os.getcwd()\n",
    "data = pd.read_csv('dataProcessed.csv') # 11 terms\n",
    "\n",
    "for i in range(2, 12):\n",
    "    for j in range(i + 1, 12):\n",
    "        name = data.columns.values.tolist()[i] + \" * \" + data.columns.values.tolist()[j]\n",
    "        data[name] = data.iloc[:, i] * data.iloc[:, j]\n",
    "\n",
    "data.to_csv('result.csv') # 50 terms"
   ]
  },
  {
   "cell_type": "markdown",
   "metadata": {},
   "source": [
    "# Lasso regression"
   ]
  },
  {
   "cell_type": "code",
   "execution_count": 2,
   "metadata": {},
   "outputs": [
    {
     "name": "stdout",
     "output_type": "stream",
     "text": [
      "lasso regression linear model intercept: 0.9265930000000001\n",
      "lasso regression linear model coeff:\n",
      "[ 0.  0.  0.  0.  0. -0.  0.  0.  0. -0.  0.  0.  0.  0.  0. -0. -0.  0.\n",
      "  0.  0. -0. -0.  0.  0.  0.  0.  0. -0. -0.  0.  0.  0.  0.  0.  0.  0.\n",
      " -0.  0. -0. -0.  0. -0.  0.  0. -0.  0.  0.  0. -0.  0.]\n",
      "Non-zero features: 0\n",
      "R-squared score (training): 0.000\n",
      "R_squared score (test): -0.013\n",
      "\n",
      "Features with non-zero weight (sorted by absolute magnitude):\n"
     ]
    },
    {
     "name": "stderr",
     "output_type": "stream",
     "text": [
      "C:\\Users\\ASUS\\Anaconda3\\lib\\site-packages\\sklearn\\preprocessing\\data.py:323: DataConversionWarning: Data with input dtype int64, float64 were all converted to float64 by MinMaxScaler.\n",
      "  return self.partial_fit(X, y)\n",
      "C:\\Users\\ASUS\\Anaconda3\\lib\\site-packages\\sklearn\\preprocessing\\data.py:323: DataConversionWarning: Data with input dtype int64, float64 were all converted to float64 by MinMaxScaler.\n",
      "  return self.partial_fit(X, y)\n"
     ]
    }
   ],
   "source": [
    "import numpy as np\n",
    "import pandas as pd\n",
    "import os\n",
    "\n",
    "from sklearn.linear_model import Lasso,LassoCV,LassoLarsCV\n",
    "\n",
    "from sklearn.preprocessing import MinMaxScaler\n",
    "scaler = MinMaxScaler()\n",
    "\n",
    "os.getcwd()\n",
    "data = pd.read_csv('result.csv')\n",
    "\n",
    "X = data.iloc[:,2:]\n",
    "Y = data.iloc[:,1]\n",
    "\n",
    "from sklearn.model_selection import train_test_split\n",
    "X_train,X_test,y_train,y_test = train_test_split(X,Y,random_state=0)\n",
    "\n",
    "X_train_scaled = scaler.fit_transform(X_train)\n",
    "X_test_scaled = scaler.fit_transform(X_test)\n",
    "\n",
    "linlasso = Lasso(alpha=2.0).fit(X_train_scaled, y_train)\n",
    "\n",
    "print('lasso regression linear model intercept: {}'.format(linlasso.intercept_))\n",
    "\n",
    "print('lasso regression linear model coeff:\\n{}'.format(linlasso.coef_))\n",
    "\n",
    "print('Non-zero features: {}'.format(np.sum(linlasso.coef_ != 0)))\n",
    "\n",
    "print('R-squared score (training): {:.3f}'.format(linlasso.score(X_train, y_train)))\n",
    "\n",
    "print('R_squared score (test): {:.3f}\\n'.format(linlasso.score(X_test, y_test)))\n",
    "\n",
    "print('Features with non-zero weight (sorted by absolute magnitude):')\n",
    "\n",
    "for e in sorted (list(zip(list(X),linlasso.coef_)), key = lambda e: -abs(e[1])):\n",
    "    if e[1] != 0:\n",
    "        print('\\t{}, {:.3f}'.format(e[0], e[1]))"
   ]
  },
  {
   "cell_type": "code",
   "execution_count": 5,
   "metadata": {},
   "outputs": [
    {
     "name": "stdout",
     "output_type": "stream",
     "text": [
      "Lasso regression: effect of alpha regularization\n",
      "      parameter on number of features kept in final model\n",
      "\n",
      "Alpha = 0.0001\n",
      "Features kept: 49, r-squared training: 0.76,           r_squared test: 0.26\n",
      "Alpha = 0.0005\n",
      "Features kept: 44, r-squared training: 0.75,           r_squared test: 0.36\n",
      "Alpha = 0.0010\n",
      "Features kept: 40, r-squared training: 0.74,           r_squared test: 0.40\n",
      "Alpha = 0.0100\n",
      "Features kept: 13, r-squared training: 0.58,           r_squared test: 0.34\n",
      "Alpha = 0.1000\n",
      "Features kept: 1, r-squared training: 0.09,           r_squared test: 0.08\n",
      "Alpha = 1.0000\n",
      "Features kept: 0, r-squared training: 0.00,           r_squared test: -0.01\n",
      "Alpha = 5.0000\n",
      "Features kept: 0, r-squared training: 0.00,           r_squared test: -0.01\n",
      "Alpha = 10.0000\n",
      "Features kept: 0, r-squared training: 0.00,           r_squared test: -0.01\n"
     ]
    }
   ],
   "source": [
    "print('Lasso regression: effect of alpha regularization\\n\\\n",
    "      parameter on number of features kept in final model\\n')\n",
    "\n",
    "for alpha in [0.0001, 0.0005, 0.001, 0.01, 0.1, 1, 5, 10]:\n",
    "    linlasso = Lasso(alpha).fit(X_train_scaled, y_train)\n",
    "    r2_train = linlasso.score(X_train_scaled, y_train)\n",
    "    r2_test = linlasso.score(X_test_scaled, y_test)\n",
    "    \n",
    "    print('Alpha = {:.4f}\\nFeatures kept: {}, r-squared training: {:.2f}, \\\n",
    "          r_squared test: {:.2f}'\n",
    "          .format(alpha, np.sum(linlasso.coef_ != 0), r2_train, r2_test))"
   ]
  },
  {
   "cell_type": "code",
   "execution_count": 7,
   "metadata": {},
   "outputs": [
    {
     "name": "stdout",
     "output_type": "stream",
     "text": [
      "Alpha = 10.0000\n",
      "Features kept: 40, r-squared training: 0.74,      r_squared test: 0.40\n",
      "Features with non-zero weight (sorted by absolute magnitude):\n",
      "\tX * XY, 1.7916\n",
      "\tx, 1.5078\n",
      "\tx * x2, -1.3596\n",
      "\tY2 * y, 1.3125\n",
      "\txy * y2, -1.2889\n",
      "\tY * y2, 1.2299\n",
      "\txy, 1.0902\n",
      "\tx2, -0.9315\n",
      "\tx2 * y2, 0.8358\n",
      "\tX2 * x2, 0.6444\n",
      "\tX2 * y, 0.6291\n",
      "\tX, 0.5765\n",
      "\tY * x2, 0.5570\n",
      "\tY2 * x, -0.5277\n",
      "\tXY * x, 0.4734\n",
      "\tY * y, -0.4575\n",
      "\tY2, -0.3927\n",
      "\tX2, -0.3113\n",
      "\tX * y2, 0.3033\n",
      "\tX * x2, 0.3003\n",
      "\tXY * y2, -0.2953\n",
      "\tY, -0.2858\n",
      "\ty2, 0.2148\n",
      "\tX2 * xy, 0.1843\n",
      "\tX * x, 0.1720\n",
      "\tXY * x2, 0.1594\n",
      "\tx * y2, 0.1583\n",
      "\tXY * X2, 0.1536\n",
      "\ty, 0.1445\n",
      "\tY * x, 0.1414\n",
      "\tXY * y, -0.1397\n",
      "\tY * xy, 0.1379\n",
      "\tXY * xy, -0.1339\n",
      "\tY2 * x2, 0.0843\n",
      "\tX * y, -0.0830\n",
      "\tX2 * x, 0.0532\n",
      "\tX2 * y2, 0.0522\n",
      "\tX2 * Y2, -0.0479\n",
      "\ty * y2, -0.0322\n",
      "\tX * X2, -0.0322\n"
     ]
    }
   ],
   "source": [
    "linlasso = Lasso(0.001).fit(X_train_scaled, y_train)\n",
    "r2_train = linlasso.score(X_train_scaled, y_train)\n",
    "r2_test = linlasso.score(X_test_scaled, y_test)\n",
    "print('Alpha = {:.4f}\\nFeatures kept: {}, r-squared training: {:.2f}, \\\n",
    "     r_squared test: {:.2f}'\n",
    "     .format(alpha, np.sum(linlasso.coef_ != 0), r2_train, r2_test))\n",
    "print('Features with non-zero weight (sorted by absolute magnitude):')\n",
    "for e in sorted (list(zip(list(X),linlasso.coef_)), key = lambda e: -abs(e[1])):\n",
    "    if e[1] != 0:\n",
    "        print('\\t{}, {:.4f}'.format(e[0], e[1]))"
   ]
  }
 ],
 "metadata": {
  "kernelspec": {
   "display_name": "Python 3",
   "language": "python",
   "name": "python3"
  },
  "language_info": {
   "codemirror_mode": {
    "name": "ipython",
    "version": 3
   },
   "file_extension": ".py",
   "mimetype": "text/x-python",
   "name": "python",
   "nbconvert_exporter": "python",
   "pygments_lexer": "ipython3",
   "version": "3.7.4"
  }
 },
 "nbformat": 4,
 "nbformat_minor": 2
}
